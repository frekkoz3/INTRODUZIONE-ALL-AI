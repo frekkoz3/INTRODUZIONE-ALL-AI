{
 "cells": [
  {
   "attachments": {},
   "cell_type": "markdown",
   "metadata": {},
   "source": [
    "# Simple search demos: informed search\n",
    "\n",
    "by Francesco Bredariol"
   ]
  },
  {
   "cell_type": "markdown",
   "metadata": {},
   "source": [
    "### Exercise 1 (greedy search on graph)\n",
    "Implement a greedy algorithm and test it on following input:\n",
    "``` python\n",
    "\n",
    "graph = {\n",
    "    'A': [('B', 1), ('C', 4)],\n",
    "    'B': [('D', 2), ('E', 5)],\n",
    "    'C': [('F', 3)],\n",
    "    'D': [],\n",
    "    'E': [],\n",
    "    'F': []\n",
    "}\n",
    "\n",
    "greedy(graph, 'A', 'F')\n",
    "```\n",
    "\n",
    "What result do you expect?"
   ]
  },
  {
   "cell_type": "code",
   "execution_count": 26,
   "metadata": {},
   "outputs": [
    {
     "name": "stdout",
     "output_type": "stream",
     "text": [
      "No path found\n"
     ]
    }
   ],
   "source": [
    "def greedy(graph, start, target):\n",
    "    path = [start]\n",
    "    current = start\n",
    "    \n",
    "    while current != target:\n",
    "        if current not in graph or not graph[current]:\n",
    "            print(\"No path found\")\n",
    "            return None\n",
    "        \n",
    "        # Select the edge with the smallest weight\n",
    "        next_node = min(graph[current], key=lambda x: x[1])[0]\n",
    "        path.append(next_node)\n",
    "        \n",
    "        # Move to the next node\n",
    "        current = next_node\n",
    "        \n",
    "        # Check if we've reached the target\n",
    "        if current == target:\n",
    "            return path\n",
    "    \n",
    "    return path\n",
    "\n",
    "# Example graph input \n",
    "graph = {\n",
    "    'A': [('B', 1), ('C', 4)],\n",
    "    'B': [('D', 2), ('E', 5)],\n",
    "    'C': [('F', 3)],\n",
    "    'D': [],\n",
    "    'E': [],\n",
    "    'F': []\n",
    "}\n",
    "\n",
    "# Run the greedy algorithm \n",
    "result = greedy(graph, 'A', 'F')\n",
    "#print(\"Path found:\" if result else \"No path found\", result)"
   ]
  },
  {
   "attachments": {},
   "cell_type": "markdown",
   "metadata": {},
   "source": [
    "Notice that no path is found, because the algorithm explored A-B-D and for stuck (F is not reachable from D).\n",
    "# Exercise 1a. \n",
    "Now run the same example with the graph with added connections D-E and E-F, each cost 100. What result do you expect?"
   ]
  },
  {
   "cell_type": "code",
   "execution_count": 27,
   "metadata": {},
   "outputs": [
    {
     "name": "stdout",
     "output_type": "stream",
     "text": [
      "Path found: ['A', 'B', 'D', 'E', 'F']\n"
     ]
    }
   ],
   "source": [
    "graph1 = {\n",
    "    'A': [('B', 1), ('C', 4)],\n",
    "    'B': [('D', 2), ('E', 5)],\n",
    "    'C': [('F', 3)],\n",
    "    'D': [('E',100)],\n",
    "    'E': [('F',100)],\n",
    "    'F': []\n",
    "}\n",
    "\n",
    "# Run the greedy algorithm \n",
    "result = greedy(graph1, 'A', 'F')\n",
    "print(\"Path found:\" if result else \"No path found\", result)"
   ]
  },
  {
   "attachments": {},
   "cell_type": "markdown",
   "metadata": {},
   "source": [
    "Notice that, as expected, the algorithm returns the path A->B->D->E->F, although it has a dramatically higher cost than the path A->C->F, because B was cheaper to reach than C in one step. \n",
    "\n",
    "# Exercise 1.3 \n",
    "Modify the algorithm so that it returns the total cost of the path found.  "
   ]
  },
  {
   "cell_type": "code",
   "execution_count": 28,
   "metadata": {},
   "outputs": [
    {
     "name": "stdout",
     "output_type": "stream",
     "text": [
      "Total cost: 203\n",
      "Path found: ['A', 'B', 'D', 'E', 'F']\n"
     ]
    }
   ],
   "source": [
    "def greedyC(graph, start, target):\n",
    "    path = [start]\n",
    "    current = start\n",
    "    total_cost = 0\n",
    "    \n",
    "    while current != target:\n",
    "        if current not in graph or not graph[current]:\n",
    "            print(\"No path found\")\n",
    "            return None\n",
    "        \n",
    "        # Select the edge with the smallest weight\n",
    "        next_node, cost = min(graph[current], key=lambda x: x[1])\n",
    "        path.append(next_node)\n",
    "        total_cost += cost\n",
    "        \n",
    "        # Move to the next node\n",
    "        current = next_node\n",
    "        \n",
    "        # Check if we've reached the target\n",
    "        if current == target:\n",
    "            print(f\"Total cost: {total_cost}\")\n",
    "            return path\n",
    "    \n",
    "    print(f\"Total cost: {total_cost}\")\n",
    "    return path\n",
    "\n",
    "graph1 = {\n",
    "    'A': [('B', 1), ('C', 4)],\n",
    "    'B': [('D', 2), ('E', 5)],\n",
    "    'C': [('F', 3)],\n",
    "    'D': [('E',100)],\n",
    "    'E': [('F',100)],\n",
    "    'F': []\n",
    "}\n",
    "\n",
    "# Run the greedy algorithm \n",
    "result = greedyC(graph1, 'A', 'F')\n",
    "print(\"Path found:\" if result else \"No path found\", result)"
   ]
  },
  {
   "attachments": {},
   "cell_type": "markdown",
   "metadata": {},
   "source": [
    "# Exercise 2. \n",
    "Now assume that your estimated distance to node 'F' from nodes equals 100 from nodes 'A', 'B' and 'C', and 0 otherwise. Use this information to modify the greedy search, and test it on graph1 from above exercise. \n",
    "\n",
    "``` python\n",
    "graph1 = {\n",
    "    'A': [('B', 1), ('C', 4)],\n",
    "    'B': [('D', 2), ('E', 5)],\n",
    "    'C': [('F', 3)],\n",
    "    'D': [('E',100)],\n",
    "    'E': [('F',100)],\n",
    "    'F': []\n",
    "}\n",
    "\n",
    "Astar(graph1, 'A', 'F')\n",
    "```\n",
    "\n",
    "What result do you expect? Is the path you obtain optimal/why? "
   ]
  },
  {
   "cell_type": "code",
   "execution_count": 29,
   "metadata": {},
   "outputs": [
    {
     "name": "stdout",
     "output_type": "stream",
     "text": [
      "Path: ['A', 'B', 'E', 'F'], Cost: 106\n"
     ]
    }
   ],
   "source": [
    "import heapq\n",
    "\n",
    "def Astar(graph, start, goal, heuristics):\n",
    "    # Priority queue to store (cost, current_path, current_node)\n",
    "    queue = [(0 + heuristics[start], 0, [start], start)]\n",
    "    # Set to track visited nodes\n",
    "    visited = set()\n",
    "    \n",
    "    while queue:\n",
    "        # Pop the node with the smallest f(n) = g(n) + h(n)\n",
    "        f, cost, path, current = heapq.heappop(queue)\n",
    "        \n",
    "        # If we have reached the goal, return the path and cost\n",
    "        if current == goal:\n",
    "            return path, cost\n",
    "        \n",
    "        # If already visited, skip it\n",
    "        if current in visited:\n",
    "            continue\n",
    "        \n",
    "        # Mark as visited\n",
    "        visited.add(current)\n",
    "        \n",
    "        # Explore neighbors\n",
    "        for neighbor, weight in graph.get(current, []):\n",
    "            if neighbor not in visited:\n",
    "                # Calculate new cost\n",
    "                g = cost + weight\n",
    "                f = g + heuristics.get(neighbor, 0)\n",
    "                heapq.heappush(queue, (f, g, path + [neighbor], neighbor))\n",
    "    \n",
    "    return None, float('inf')  # No path found\n",
    "\n",
    "# Define graph and heuristics\n",
    "graph1 = {\n",
    "    'A': [('B', 1), ('C', 4)],\n",
    "    'B': [('D', 2), ('E', 5)],\n",
    "    'C': [('F', 3)],\n",
    "    'D': [('E', 100)],\n",
    "    'E': [('F', 100)],\n",
    "    'F': []\n",
    "}\n",
    "\n",
    "heuristics = {\n",
    "    'A': 1000,\n",
    "    'B': 1000,\n",
    "    'C': 1000,\n",
    "    'D': 0,\n",
    "    'E': 0,\n",
    "    'F': 0\n",
    "}\n",
    "\n",
    "# Run A* search\n",
    "path, cost = Astar(graph1, 'A', 'F', heuristics)\n",
    "print(f\"Path: {path}, Cost: {cost}\")"
   ]
  },
  {
   "cell_type": "markdown",
   "metadata": {},
   "source": [
    "The resulting path is not optimal. Define heuristics1 which surely computes the optimal path?\n",
    "(Yes, it is Dijkstra's algorithm)"
   ]
  },
  {
   "cell_type": "code",
   "execution_count": 30,
   "metadata": {},
   "outputs": [
    {
     "name": "stdout",
     "output_type": "stream",
     "text": [
      "Path: ['A', 'C', 'F'], Cost: 7\n"
     ]
    }
   ],
   "source": [
    "heuristics1 = {\n",
    "    'A': 0,\n",
    "    'B': 0,\n",
    "    'C': 0,\n",
    "    'D': 0,\n",
    "    'E': 0,\n",
    "    'F': 0\n",
    "}\n",
    "\n",
    "# Run A* search\n",
    "path, cost = Astar(graph1, 'A', 'F', heuristics1)\n",
    "print(f\"Path: {path}, Cost: {cost}\")"
   ]
  },
  {
   "cell_type": "markdown",
   "metadata": {},
   "source": [
    "What was the problem with the first heuristics we tried? Modify value of heuristics in B, so to get the optimal path."
   ]
  },
  {
   "cell_type": "code",
   "execution_count": 31,
   "metadata": {},
   "outputs": [
    {
     "name": "stdout",
     "output_type": "stream",
     "text": [
      "Path: ['A', 'C', 'F'], Cost: 7\n"
     ]
    }
   ],
   "source": [
    "heuristics2 = {\n",
    "    'A': 1000,\n",
    "    'B': 10000,\n",
    "    'C': 1000,\n",
    "    'D': 0,\n",
    "    'E': 0,\n",
    "    'F': 0\n",
    "}\n",
    "\n",
    "# Run A* search\n",
    "path, cost = Astar(graph1, 'A', 'F', heuristics2)\n",
    "print(f\"Path: {path}, Cost: {cost}\")"
   ]
  },
  {
   "cell_type": "markdown",
   "metadata": {},
   "source": [
    "Is h, h1, h2 admissible? Is it consistent?\n",
    "\n",
    "neither h nor h2 are neither admissible nor consistent since the heuristic on some nodes are greater than the best cost of th entire path. h1 is admissible and consistent since it is the trivial heuristic."
   ]
  },
  {
   "cell_type": "markdown",
   "metadata": {},
   "source": [
    "# Exercise (HW)\n",
    "\n",
    "- Generate 100 different heuristics for the graph above, ranging values for nodes except the goal state from 0 to 300. Run A* with that heuristics and check if the resulting path is optimal.\n",
    "- Write now a procedure for checking whether the heuristics is admissable, and another one for checking if the heuristics is consistent. Report in a table how many heuristics are consistent, admissable and optimal, how many are consistent, admissable and not optimal, etc. What do you notice?\n",
    "- Did the above implementation of A do a graph search or a tree search? Why?"
   ]
  },
  {
   "cell_type": "code",
   "execution_count": 32,
   "metadata": {},
   "outputs": [],
   "source": [
    "verbose = False\n",
    "verbose_2 = False\n",
    "def admissible_heuristic(heuristic, real_cost): \n",
    "    for heuristic_node, real_cost_node in zip(heuristic, real_cost):\n",
    "        if verbose:\n",
    "            print(f\"{heuristic_node} : {heuristic[heuristic_node]} vs {real_cost[real_cost_node]}\")\n",
    "        if heuristic[heuristic_node] > real_cost[real_cost_node] or heuristic[heuristic_node] < 0:\n",
    "            if verbose_2:\n",
    "                print(f\"{heuristic_node} : {heuristic[heuristic_node]} vs {real_cost[real_cost_node]}\")\n",
    "            return False\n",
    "    return True\n",
    "\n",
    "def consistent_heuristic(heuristic, graph):\n",
    "    for node in graph:\n",
    "        for neighbor, weight in graph.get(node, []):\n",
    "            if verbose:\n",
    "                print(f\"{node} to {neighbor} : {heuristic[node]} vs {weight} + {heuristic[neighbor]}\")\n",
    "            if heuristic[node] > weight + heuristic[neighbor]:\n",
    "                if verbose_2:\n",
    "                    print(f\"{node} to {neighbor} : {heuristic[node]} vs {weight} + {heuristic[neighbor]}\")\n",
    "                return False\n",
    "    return True\n",
    "\n",
    "def optimal_heuristic(heuristic_cost, optimal_cost):\n",
    "    return heuristic_cost == optimal_cost"
   ]
  },
  {
   "cell_type": "code",
   "execution_count": 33,
   "metadata": {},
   "outputs": [
    {
     "name": "stdout",
     "output_type": "stream",
     "text": [
      "ADMISSIBLE AND CONSISTENT : 0 \n",
      "ADMISSIBLE AND NOT CONSISTENT : 0 \n",
      "NOT ADMISSIBLE AND CONSISTENT : 0 \n",
      "ONLY OPTIMAL : 73 \n",
      "---------------------------- \n",
      "TOTAL : 73\n"
     ]
    }
   ],
   "source": [
    "import random \n",
    "def heuristic_generator(graph, goal, size = 100, maximum = 300):\n",
    "    h_list = []\n",
    "    nodes = list(graph.keys())\n",
    "    for i in range (size):\n",
    "        h_list.append({n :  random.randint(0, maximum) for n in nodes})\n",
    "        h_list[-1][goal] = 0\n",
    "    return h_list\n",
    "\n",
    "graph = {\n",
    "    'A': [('B', 1), ('C', 4)],\n",
    "    'B': [('D', 2), ('E', 5)],\n",
    "    'C': [('F', 3)],\n",
    "    'D': [('E', 100)],\n",
    "    'E': [('F', 100)],\n",
    "    'F': []\n",
    "}\n",
    "\n",
    "real_cost = { \n",
    "    'A': Astar(graph, 'A', 'F', heuristics1)[1],\n",
    "    'B': Astar(graph, 'B', 'F', heuristics1)[1],\n",
    "    'C': Astar(graph, 'C', 'F', heuristics1)[1],\n",
    "    'D': Astar(graph, 'D', 'F', heuristics1)[1],\n",
    "    'E': Astar(graph, 'E', 'F', heuristics1)[1],\n",
    "    'F': 0\n",
    "} # we just store the real minimum distance between any point to F\n",
    "\n",
    "h_list = heuristic_generator(graph, 'F')\n",
    "p_list = []\n",
    "c_list = []\n",
    "optimal_c = 0\n",
    "admissible_and_not_consistent = 0\n",
    "admissible_and_consistent = 0\n",
    "not_admissible_and_consistent = 0\n",
    "optimal_only = 0\n",
    "\n",
    "for h in h_list:\n",
    "    path, cost = Astar(graph, 'A', 'F', h)\n",
    "    p_list.append(path)\n",
    "    c_list.append(cost)\n",
    "    if cost == 7:\n",
    "        optimal_c += 1\n",
    "        if admissible_heuristic(h, real_cost) and consistent_heuristic(h, graph):\n",
    "            admissible_and_consistent += 1\n",
    "        elif admissible_heuristic(h, real_cost):\n",
    "            admissible_and_not_consistent += 1\n",
    "        elif consistent_heuristic(h, graph):\n",
    "            not_admissible_and_consistent += 1\n",
    "        else:\n",
    "            optimal_only += 1\n",
    "\n",
    "print(f\"ADMISSIBLE AND CONSISTENT : {admissible_and_consistent} \\nADMISSIBLE AND NOT CONSISTENT : {admissible_and_not_consistent} \\nNOT ADMISSIBLE AND CONSISTENT : {not_admissible_and_consistent} \\nONLY OPTIMAL : {optimal_only} \\n---------------------------- \\nTOTAL : {optimal_c}\")"
   ]
  },
  {
   "cell_type": "markdown",
   "metadata": {},
   "source": [
    "Here we calculate the probability of hitting an admissible heuristic using random uniform distribution in the range (0, 300) as probabilistic generator: \n",
    "\n",
    "we take advantage of the *Foundamental Theorem of Combinatory* to express the total probability as the products of the individuals. So \n",
    "\n",
    "$$ p(A \\leq 7) = \\frac{8}{301} $$\n",
    "$$ p(B \\leq 1) = \\frac{2}{301} $$\n",
    "$$ p(C \\leq 4) = \\frac{5}{301} $$\n",
    "$$ p(D \\leq 7) = \\frac{201}{301} $$\n",
    "$$ p(E \\leq 7) = \\frac{101}{301} $$\n",
    "\n",
    "hence that we have that \n",
    "\n",
    "$$ p(\\text{H is admissible}) = \\prod_{i}{p_i} \\approx 10^{-5}"
   ]
  },
  {
   "cell_type": "markdown",
   "metadata": {},
   "source": [
    "To answer the last question, we can just notice how if we are visiting a node we have already seen we skip the loop: this means we are in a Graph search algorithm."
   ]
  },
  {
   "cell_type": "markdown",
   "metadata": {},
   "source": [
    "# Exercise BONUS: Difference between graph search and tree search\n",
    "\n",
    "We test the example from Note 3. Observe that the algorithm does not return the correct path: Optimal path is S->A->C->G, but the algorithm does not explore C again when popping the path S->A-> and arriving at node C, because it explored C already within path S->B->C->G.\n",
    "\n",
    "Modify the implementation at line 30 and 39 to transform this search into a tree search algorithm.\n",
    "\n",
    "Modify the heuristic function in A, so that graph search finds optimal solution (line 66). "
   ]
  },
  {
   "cell_type": "code",
   "execution_count": 34,
   "metadata": {},
   "outputs": [
    {
     "name": "stdout",
     "output_type": "stream",
     "text": [
      "The queue looks like this: [(5, 0, ['S'], 'S')]\n",
      "\n",
      "\n",
      "\n",
      "The queue element we explore now looks like this: \n",
      "\n",
      " f=5, cost=0, path=['S']  current=S\n",
      "\n",
      "We mark the current node S as visited, we will now explore its neigbours:\n",
      "---- the current path is ['S'], and its so-far cost is 0\n",
      "- We add the node A to the queue, because it was not previously visited\n",
      "---- the new path is ['S', 'A'], and its so-far cost is 1\n",
      "\n",
      "adding the new path to the queue\n",
      "---- the current path is ['S'], and its so-far cost is 0\n",
      "- We add the node B to the queue, because it was not previously visited\n",
      "---- the new path is ['S', 'B'], and its so-far cost is 1\n",
      "\n",
      "adding the new path to the queue\n",
      "The queue looks like this: [(5, 1, ['S', 'A'], 'A'), (6, 1, ['S', 'B'], 'B')]\n",
      "\n",
      "\n",
      "\n",
      "The queue element we explore now looks like this: \n",
      "\n",
      " f=5, cost=1, path=['S', 'A']  current=A\n",
      "\n",
      "We mark the current node A as visited, we will now explore its neigbours:\n",
      "---- the current path is ['S', 'A'], and its so-far cost is 1\n",
      "- We add the node C to the queue, because it was not previously visited\n",
      "---- the new path is ['S', 'A', 'C'], and its so-far cost is 2\n",
      "\n",
      "adding the new path to the queue\n",
      "The queue looks like this: [(5, 2, ['S', 'A', 'C'], 'C'), (6, 1, ['S', 'B'], 'B')]\n",
      "\n",
      "\n",
      "\n",
      "The queue element we explore now looks like this: \n",
      "\n",
      " f=5, cost=2, path=['S', 'A', 'C']  current=C\n",
      "\n",
      "We mark the current node C as visited, we will now explore its neigbours:\n",
      "---- the current path is ['S', 'A', 'C'], and its so-far cost is 2\n",
      "- We add the node G to the queue, because it was not previously visited\n",
      "---- the new path is ['S', 'A', 'C', 'G'], and its so-far cost is 5\n",
      "\n",
      "adding the new path to the queue\n",
      "The queue looks like this: [(5, 5, ['S', 'A', 'C', 'G'], 'G'), (6, 1, ['S', 'B'], 'B')]\n",
      "\n",
      "\n",
      "\n",
      "The queue element we explore now looks like this: \n",
      "\n",
      " f=5, cost=5, path=['S', 'A', 'C', 'G']  current=G\n",
      "\n",
      "The goal state was found. We return the path and the respective cost.\n",
      "Path: ['S', 'A', 'C', 'G'], Cost: 5\n"
     ]
    }
   ],
   "source": [
    "import heapq\n",
    "\n",
    "verbose = True\n",
    "\n",
    "def Astar(graph, start, goal, heuristics):\n",
    "    # Priority queue to store (cost, current_path, current_node)\n",
    "    queue = [(0 + heuristics[start], 0, [start], start)]\n",
    "    # Set to track visited nodes\n",
    "    visited = set()\n",
    "    \n",
    "    while queue:\n",
    "        # Pop the node with the smallest f(n) = g(n) + h(n)\n",
    "        if verbose:\n",
    "            print('The queue looks like this: '+str(queue)+'\\n\\n\\n')\n",
    "        f, cost, path, current = heapq.heappop(queue)\n",
    "        \n",
    "        if verbose:\n",
    "            print('The queue element we explore now looks like this: \\n\\n f='+str(f)+', cost='+str(cost)+', path='+str(path),' current='+str(current)+'\\n')\n",
    "\n",
    "        # If we have reached the goal, return the path and cost\n",
    "        if current == goal:\n",
    "            if verbose:\n",
    "                print('The goal state was found. We return the path and the respective cost.')\n",
    "            return path, cost\n",
    "        \n",
    "        # If already visited, skip it\n",
    "        if current in visited:\n",
    "            if verbose:\n",
    "                print('The current node '+str(current)+' was already visited.')\n",
    "            pass\n",
    "        \n",
    "        # Mark as visited\n",
    "        if verbose:\n",
    "            print('We mark the current node '+str(current)+' as visited, we will now explore its neigbours:')\n",
    "        visited.add(current)\n",
    "        \n",
    "        # Explore neighbors\n",
    "        for neighbor, weight in graph.get(current, []):\n",
    "            # Calculate new cost\n",
    "            g = cost + weight\n",
    "            f = g + heuristics.get(neighbor, 0)\n",
    "            if verbose:\n",
    "                print('---- the current path is '+str(path)+', and its so-far cost is '+str(cost))\n",
    "                print('- We add the node '+str(neighbor)+' to the queue, because it was not previously visited')\n",
    "                pathnew = path+[neighbor]\n",
    "                print('---- the new path is '+str(pathnew)+', and its so-far cost is '+str(g)+'\\n')\n",
    "                print('adding the new path to the queue')\n",
    "            heapq.heappush(queue, (f, g, path + [neighbor], neighbor))\n",
    "            \n",
    "    return None, float('inf')  # No path found\n",
    "\n",
    "# Define graph and heuristics\n",
    "graph1 = {\n",
    "    'S': [('A', 1), ('B', 1)],\n",
    "    'A': [('C', 1)],\n",
    "    'B': [('C', 2)],\n",
    "    'C': [('G', 3)],\n",
    "    'G': [],\n",
    "}\n",
    "\n",
    "heuristics = {\n",
    "    'S': 5,\n",
    "    'A': 4, \n",
    "    'B': 5,\n",
    "    'C': 3,\n",
    "    'G': 0\n",
    "}\n",
    "\n",
    "# Run A* search\n",
    "path, cost = Astar(graph1, 'S', 'G', heuristics)\n",
    "print(f\"Path: {path}, Cost: {cost}\")"
   ]
  }
 ],
 "metadata": {
  "kernelspec": {
   "display_name": "Python 3",
   "language": "python",
   "name": "python3"
  },
  "language_info": {
   "codemirror_mode": {
    "name": "ipython",
    "version": 3
   },
   "file_extension": ".py",
   "mimetype": "text/x-python",
   "name": "python",
   "nbconvert_exporter": "python",
   "pygments_lexer": "ipython3",
   "version": "3.12.3"
  },
  "orig_nbformat": 4
 },
 "nbformat": 4,
 "nbformat_minor": 2
}
