{
 "cells": [
  {
   "cell_type": "markdown",
   "metadata": {},
   "source": [
    "# EASY BLACKJACK PROJECT\n",
    "\n",
    "We want to implement this little side project were we implement an agent playing blackjack against the house. \n",
    "First of all we implement an easy deck class to simulate the deck behaviour. It is really simplified but long story short we use a full deck everytime and when there are too less cards in the deck we use a new one.\n",
    "We implemented in italian the name of the cards because they sound better."
   ]
  },
  {
   "cell_type": "code",
   "execution_count": 18,
   "metadata": {},
   "outputs": [],
   "source": [
    "import random\n",
    "class Deck():\n",
    "    def __init__(self):\n",
    "        self.__seed = ['cuori', 'quadri', 'fiori', 'picche']\n",
    "        self.__values = ['asso', 'due', 'tre', 'quattro', 'cinque', 'sei', 'sette', 'otto', 'nove', 'dieci', 'jack', 'regina', 're']\n",
    "        self.__integer_values = {v : i + 1 for i, v in enumerate(self.__values)}\n",
    "        self.__integer_values['jack'] = 10\n",
    "        self.__integer_values['regina'] = 10\n",
    "        self.__integer_values['re'] = 10\n",
    "        self.__ordered_card = {c : i for i, c in enumerate([f\"{v} di {s}\" for s in self.__seed for v in self.__values])}\n",
    "        self.__ordered_value = {i : c for i, c in enumerate([f\"{v} di {s}\" for s in self.__seed for v in self.__values])}\n",
    "        self.__cards = [f\"{v} di {s}\" for s in self.__seed for v in self.__values ]\n",
    "\n",
    "    def new_deck(self):\n",
    "        self.__cards = [f\"{v} di {s}\" for v in self.__values for s in self.__seed]\n",
    "\n",
    "    def shuffle(self):\n",
    "        random.shuffle(self.__cards)\n",
    "\n",
    "    def get_one(self):\n",
    "        return self.__cards.pop()\n",
    "    \n",
    "    def get_some(self, k = 2):\n",
    "        if k > 52:\n",
    "            print(\"Maximum card requested 52\")\n",
    "            raise Exception\n",
    "        if k > len(self.__cards):\n",
    "            print(\"A new deck will be used\") # just to remember\n",
    "            self.new_deck()\n",
    "        res = [self.get_one() for i in range (k)]\n",
    "        return res\n",
    "    \n",
    "    def get_value_from_card(self, c):\n",
    "        return self.__ordered_card[c]\n",
    "    \n",
    "    def get_card_from_value(self, v):\n",
    "        return self.__ordered_value[v]\n",
    "\n",
    "    def get_integer_value(self, c):\n",
    "        v = c.split()[0]\n",
    "        return self.__integer_values[v]\n",
    "    \n",
    "    def get_deck(self):\n",
    "        return self.__cards"
   ]
  },
  {
   "cell_type": "markdown",
   "metadata": {},
   "source": [
    "Now that the deck is working we build the house. The house is like a player but with a fixed policy (soft 17). The policy states the following : if hour hand value is less than 17, we ask for an other card. Otherwise we stay. It assign 1 the value 1 or 11 respectively based on what he can actually do (1 if 11 is too much, 11 otherwise)."
   ]
  },
  {
   "cell_type": "code",
   "execution_count": 194,
   "metadata": {},
   "outputs": [],
   "source": [
    "class House:\n",
    "\n",
    "    def __init__(self):\n",
    "        self.hand = []\n",
    "        self.hand_v = []\n",
    "        self.value = 0\n",
    "\n",
    "    def first(self, deck : Deck, verbose = True):\n",
    "        self.hand = deck.get_some(2)\n",
    "        self.hand_v = [deck.get_integer_value(c) for c in self.hand]\n",
    "        if self.hand_v[0] == 1:\n",
    "            self.hand_v[0] = 11\n",
    "        if self.hand_v[1] == 1 and self.hand_v[0] != 11:\n",
    "            self.hand_v[1] = 11\n",
    "        if verbose:\n",
    "            print(self.hand[0])\n",
    "        return self.hand_v[0]\n",
    "\n",
    "    def play(self, deck : Deck, verbose = True):\n",
    "        if verbose:\n",
    "            print(self.hand[1])\n",
    "        # Soft 17 : under 17 hit, over it stare\n",
    "        self.value = sum(self.hand_v)\n",
    "        while self.value < 17:\n",
    "            card = deck.get_one()\n",
    "            if verbose:\n",
    "                print(card)\n",
    "            if deck.get_integer_value(card) == 1:\n",
    "                if self.value + 11 <= 21:\n",
    "                    self.hand.append(card)\n",
    "                    self.hand_v.append(11)\n",
    "                    self.value += 11\n",
    "                else:\n",
    "                    self.hand.append(card)\n",
    "                    self.hand_v.append(deck.get_integer_value(card))\n",
    "                    self.value = sum(self.hand_v)\n",
    "            else:\n",
    "                self.hand.append(card)\n",
    "                self.hand_v.append(deck.get_integer_value(card))\n",
    "                self.value = sum(self.hand_v)\n",
    "        return self.value"
   ]
  },
  {
   "cell_type": "code",
   "execution_count": 337,
   "metadata": {},
   "outputs": [
    {
     "name": "stdout",
     "output_type": "stream",
     "text": [
      "sei di picche\n",
      "jack di fiori\n",
      "cinque di quadri\n"
     ]
    },
    {
     "data": {
      "text/plain": [
       "21"
      ]
     },
     "execution_count": 337,
     "metadata": {},
     "output_type": "execute_result"
    }
   ],
   "source": [
    "d = Deck()\n",
    "d.shuffle()\n",
    "h = House()\n",
    "h.first(d)\n",
    "h.play(d)"
   ]
  },
  {
   "cell_type": "markdown",
   "metadata": {},
   "source": [
    "Now we need to implement the player. The player will be a simple agent where we will implement some value iteration (for now)."
   ]
  }
 ],
 "metadata": {
  "kernelspec": {
   "display_name": "Python 3",
   "language": "python",
   "name": "python3"
  },
  "language_info": {
   "codemirror_mode": {
    "name": "ipython",
    "version": 3
   },
   "file_extension": ".py",
   "mimetype": "text/x-python",
   "name": "python",
   "nbconvert_exporter": "python",
   "pygments_lexer": "ipython3",
   "version": "3.12.3"
  }
 },
 "nbformat": 4,
 "nbformat_minor": 2
}
