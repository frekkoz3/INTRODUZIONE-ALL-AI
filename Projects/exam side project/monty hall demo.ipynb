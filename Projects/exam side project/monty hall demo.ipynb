{
 "cells": [
  {
   "cell_type": "code",
   "execution_count": null,
   "metadata": {},
   "outputs": [
    {
     "name": "stdout",
     "output_type": "stream",
     "text": [
      "POLICY : Switch \n",
      "WIN : 0.66902 \n",
      "LOSS : 0.33098\n"
     ]
    }
   ],
   "source": [
    "import random\n",
    "policies = ['Switch', 'Stay']\n",
    "doors = ['goat1', 'goat2', 'car']\n",
    "win = 0\n",
    "lose = 0\n",
    "actual_policy = policies[0] # 0 = cambia sempre, 1 = resta sempre\n",
    "possibilities = [0, 1, 2]\n",
    "rollout = 100000\n",
    "for i in range (rollout):\n",
    "    random.shuffle(possibilities)\n",
    "    choose = possibilities[0] # porta scelta a caso tra le possibili\n",
    "    if choose == 0 or choose == 1: # tira via una capra quindi o stiamo su una capra o andiamo sull'auto\n",
    "        choose = choose*(actual_policy == 'Stay') + 2*(actual_policy == 'Switch')\n",
    "    else: # tira via una capra e noi stiamo sull0'auto, quindi o stiamo sull'auto o andiamo sulla capra\n",
    "        choose = choose*(actual_policy == 'Stay') + 1*(actual_policy == 'Swtich') \n",
    "    if doors[choose] == 'car':\n",
    "        win += 1\n",
    "    else:\n",
    "        lose += 1\n",
    "\n",
    "print(f\"POLICY : {actual_policy} \\nWIN : {win/rollout} \\nLOSS : {lose/rollout}\")"
   ]
  }
 ],
 "metadata": {
  "kernelspec": {
   "display_name": "Python 3",
   "language": "python",
   "name": "python3"
  },
  "language_info": {
   "codemirror_mode": {
    "name": "ipython",
    "version": 3
   },
   "file_extension": ".py",
   "mimetype": "text/x-python",
   "name": "python",
   "nbconvert_exporter": "python",
   "pygments_lexer": "ipython3",
   "version": "3.12.3"
  }
 },
 "nbformat": 4,
 "nbformat_minor": 2
}
